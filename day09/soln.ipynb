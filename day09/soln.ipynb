{
 "cells": [
  {
   "cell_type": "code",
   "execution_count": 34,
   "metadata": {
    "scrolled": true
   },
   "outputs": [],
   "source": [
    "from aocd import data\n",
    "newdata=list()\n",
    "for line in data.splitlines():\n",
    "    newdata.append(int(line))"
   ]
  },
  {
   "cell_type": "code",
   "execution_count": 6,
   "metadata": {},
   "outputs": [],
   "source": [
    "def twosum(num, subset):\n",
    "    for j in subset:\n",
    "        for k in subset:\n",
    "            if j!=k and j+k==num:\n",
    "                return True\n",
    "    return False"
   ]
  },
  {
   "cell_type": "code",
   "execution_count": 36,
   "metadata": {},
   "outputs": [
    {
     "name": "stdout",
     "output_type": "stream",
     "text": [
      "36845998\n"
     ]
    }
   ],
   "source": [
    "for i, num in enumerate(newdata):\n",
    "    if i<25:\n",
    "        continue\n",
    "    subset=newdata[i-25:i]\n",
    "    if not twosum(num,subset):\n",
    "        find=num\n",
    "        print(find)"
   ]
  },
  {
   "cell_type": "code",
   "execution_count": 37,
   "metadata": {},
   "outputs": [],
   "source": [
    "newdata.remove(find)"
   ]
  },
  {
   "cell_type": "code",
   "execution_count": 42,
   "metadata": {},
   "outputs": [
    {
     "name": "stdout",
     "output_type": "stream",
     "text": [
      "4830226\n"
     ]
    }
   ],
   "source": [
    "for i in range(2,len(newdata)):\n",
    "    for j in range(len(newdata)-size+1):\n",
    "        if sum(newdata[j:j+i]) == find:\n",
    "            out=newdata[j:j+i]\n",
    "print(max(out)+min(out))"
   ]
  }
 ],
 "metadata": {
  "kernelspec": {
   "display_name": "Python 3",
   "language": "python",
   "name": "python3"
  },
  "language_info": {
   "codemirror_mode": {
    "name": "ipython",
    "version": 3
   },
   "file_extension": ".py",
   "mimetype": "text/x-python",
   "name": "python",
   "nbconvert_exporter": "python",
   "pygments_lexer": "ipython3",
   "version": "3.9.0"
  }
 },
 "nbformat": 4,
 "nbformat_minor": 4
}
