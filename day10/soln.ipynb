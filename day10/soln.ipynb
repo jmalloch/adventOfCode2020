{
 "cells": [
  {
   "cell_type": "code",
   "execution_count": 102,
   "metadata": {
    "scrolled": false
   },
   "outputs": [],
   "source": [
    "from aocd import data\n",
    "newdata=list()\n",
    "for line in data.splitlines():\n",
    "    newdata.append(int(line))\n",
    "newdata.append(max(newdata)+3)"
   ]
  },
  {
   "cell_type": "code",
   "execution_count": 112,
   "metadata": {},
   "outputs": [
    {
     "name": "stdout",
     "output_type": "stream",
     "text": [
      "2240\n"
     ]
    }
   ],
   "source": [
    "sdata=sorted(newdata)\n",
    "one=0\n",
    "three=0\n",
    "prev=0\n",
    "threes=list()\n",
    "for i, val in enumerate(sdata):\n",
    "    if val-prev==1:\n",
    "        one+=1\n",
    "    elif val-prev==3:\n",
    "        three+=1\n",
    "        threes.append(i)\n",
    "    prev=val\n",
    "print(one*three)"
   ]
  },
  {
   "cell_type": "code",
   "execution_count": 113,
   "metadata": {},
   "outputs": [],
   "source": [
    "gaps = []\n",
    "prev=0\n",
    "for val in sorted(newdata):\n",
    "    diffs.append(val-prev)\n",
    "    prev=val"
   ]
  },
  {
   "cell_type": "code",
   "execution_count": 114,
   "metadata": {},
   "outputs": [
    {
     "name": "stdout",
     "output_type": "stream",
     "text": [
      "[5, 5, 4, 5, 5, 5, 1, 1, 3, 5, 5, 4, 5, 4, 1, 5, 1, 5, 1, 1, 2, 1, 5, 1, 3, 5, 5, 1, 1, 3, 1, 3]\n"
     ]
    }
   ],
   "source": [
    "prev=0\n",
    "ends=list()\n",
    "for i in threes:\n",
    "    size+=i-prev\n",
    "    ends.append(size)\n",
    "    prev=i\n",
    "    size=0\n",
    "ends[0]+=1"
   ]
  },
  {
   "cell_type": "code",
   "execution_count": 117,
   "metadata": {},
   "outputs": [
    {
     "name": "stdout",
     "output_type": "stream",
     "text": [
      "99214346656768\n"
     ]
    }
   ],
   "source": [
    "d={}\n",
    "d[2]=1\n",
    "d[3]=2\n",
    "d[4]=4\n",
    "d[5]=7\n",
    "prev=0\n",
    "combos=1\n",
    "for i in ends:\n",
    "    if i>1:\n",
    "        combos*=d[i]\n",
    "print(combos)"
   ]
  }
 ],
 "metadata": {
  "kernelspec": {
   "display_name": "Python 3",
   "language": "python",
   "name": "python3"
  },
  "language_info": {
   "codemirror_mode": {
    "name": "ipython",
    "version": 3
   },
   "file_extension": ".py",
   "mimetype": "text/x-python",
   "name": "python",
   "nbconvert_exporter": "python",
   "pygments_lexer": "ipython3",
   "version": "3.9.0"
  }
 },
 "nbformat": 4,
 "nbformat_minor": 4
}
