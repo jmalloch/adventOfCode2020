{
 "cells": [
  {
   "cell_type": "code",
   "execution_count": 209,
   "metadata": {
    "scrolled": false
   },
   "outputs": [],
   "source": [
    "from aocd import data\n",
    "data=data.splitlines()"
   ]
  },
  {
   "cell_type": "code",
   "execution_count": 195,
   "metadata": {},
   "outputs": [],
   "source": [
    "def checkSeat(r,c):\n",
    "    adj=[]\n",
    "    if r==0:\n",
    "        if c==0:\n",
    "            for s in oldata[r][c+1]+oldata[r+1][c:c+2]:\n",
    "                adj.append(s)\n",
    "        elif c==len(oldata[0])-1:\n",
    "            for s in oldata[r][c-1]+oldata[r+1][c-1:]:\n",
    "                adj.append(s)\n",
    "        else:\n",
    "            for s in oldata[r][c-1]+oldata[r][c+1]+oldata[r+1][c-1:c+2]:\n",
    "                adj.append(s)\n",
    "    elif r==len(oldata)-1:\n",
    "        if c==0:\n",
    "            for s in oldata[r][c+1]+oldata[r-1][c:c+2]:\n",
    "                adj.append(s)\n",
    "        elif c==len(oldata[0])-1:\n",
    "            for s in oldata[r][c-1]+oldata[r-1][c-1:]:\n",
    "                adj.append(s)\n",
    "        else:\n",
    "            for s in oldata[r][c-1]+oldata[r][c+1]+oldata[r-1][c-1:c+2]:\n",
    "                adj.append(s)\n",
    "    else:\n",
    "        if c==0:\n",
    "            for s in oldata[r-1][c:c+2]+oldata[r][c+1]+oldata[r+1][c:c+2]:\n",
    "                adj.append(s)\n",
    "        elif c==len(oldata[0])-1:\n",
    "            for s in oldata[r-1][c-1:]+oldata[r][c-1]+oldata[r+1][c-1:]:\n",
    "                adj.append(s)\n",
    "        else:\n",
    "            for s in oldata[r-1][c-1:c+2]+oldata[r][c-1]+oldata[r][c+1]+oldata[r+1][c-1:c+2]:\n",
    "                adj.append(s)\n",
    "    return adj.count('#')"
   ]
  },
  {
   "cell_type": "code",
   "execution_count": 196,
   "metadata": {},
   "outputs": [
    {
     "name": "stdout",
     "output_type": "stream",
     "text": [
      "2261\n"
     ]
    }
   ],
   "source": [
    "oldata=None\n",
    "while data!=oldata:\n",
    "    oldata=data.copy()\n",
    "    for i,line in enumerate(oldata):\n",
    "        newline=''\n",
    "        for j,char in enumerate(line):\n",
    "            if char=='L' and checkSeat(i,j)==0:\n",
    "                newline+='#'\n",
    "            elif char=='#' and checkSeat(i,j)>3:\n",
    "                newline+='L'\n",
    "            else:\n",
    "                newline+=char\n",
    "        data[i]=newline\n",
    "count=0\n",
    "for line in data:\n",
    "    count+=line.count('#')\n",
    "print(count)"
   ]
  },
  {
   "cell_type": "code",
   "execution_count": 197,
   "metadata": {},
   "outputs": [],
   "source": [
    "s=set()\n",
    "s.add((-1,1))\n",
    "s.add((0,1))\n",
    "s.add((1,1))\n",
    "s.add((1,0))\n",
    "s.add((1,-1))\n",
    "s.add((0,-1))\n",
    "s.add((-1,-1))\n",
    "s.add((-1,0))"
   ]
  },
  {
   "cell_type": "code",
   "execution_count": 210,
   "metadata": {},
   "outputs": [],
   "source": [
    "def checkSeatTwo(r,c,):\n",
    "    adj=[0]*8\n",
    "    for i,d in enumerate(s):\n",
    "        row=r\n",
    "        col=c\n",
    "        while row+d[0]>=0 and row+d[0]<=len(oldata)-1 and col+d[1]>=0 and col+d[1]<=len(oldata[0])-1:\n",
    "            row+=d[0]\n",
    "            col+=d[1]\n",
    "            if oldata[row][col]=='#':\n",
    "                adj[i]=1\n",
    "                break\n",
    "            elif oldata[row][col]=='L':\n",
    "                break\n",
    "    return sum(adj)"
   ]
  },
  {
   "cell_type": "code",
   "execution_count": 211,
   "metadata": {
    "scrolled": true
   },
   "outputs": [
    {
     "name": "stdout",
     "output_type": "stream",
     "text": [
      "2039\n"
     ]
    }
   ],
   "source": [
    "oldata=None\n",
    "run=0\n",
    "while data!=oldata:\n",
    "    run+=1\n",
    "    oldata=data.copy()\n",
    "    for i,line in enumerate(oldata):\n",
    "        newline=''\n",
    "        for j,char in enumerate(line):\n",
    "            if char=='L' and checkSeatTwo(i,j)==0:\n",
    "                newline+='#'\n",
    "            elif char=='#' and checkSeatTwo(i,j)>4:\n",
    "                newline+='L'\n",
    "            else:\n",
    "                newline+=char\n",
    "        data[i]=newline\n",
    "\n",
    "count=0\n",
    "for line in data:\n",
    "    count+=line.count('#')\n",
    "print(count)"
   ]
  }
 ],
 "metadata": {
  "kernelspec": {
   "display_name": "Python 3",
   "language": "python",
   "name": "python3"
  },
  "language_info": {
   "codemirror_mode": {
    "name": "ipython",
    "version": 3
   },
   "file_extension": ".py",
   "mimetype": "text/x-python",
   "name": "python",
   "nbconvert_exporter": "python",
   "pygments_lexer": "ipython3",
   "version": "3.9.0"
  }
 },
 "nbformat": 4,
 "nbformat_minor": 4
}
