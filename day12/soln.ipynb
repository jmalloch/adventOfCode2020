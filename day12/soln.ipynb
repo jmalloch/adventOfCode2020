{
 "cells": [
  {
   "cell_type": "code",
   "execution_count": 112,
   "metadata": {
    "scrolled": true
   },
   "outputs": [],
   "source": [
    "from aocd import data"
   ]
  },
  {
   "cell_type": "code",
   "execution_count": 113,
   "metadata": {},
   "outputs": [
    {
     "name": "stdout",
     "output_type": "stream",
     "text": [
      "2280\n"
     ]
    }
   ],
   "source": [
    "d='E'\n",
    "a=90\n",
    "dirs={}\n",
    "dirs[0]='N'\n",
    "dirs[90]='E'\n",
    "dirs[180]='S'\n",
    "dirs[270]='W'\n",
    "dirs[-270]='E'\n",
    "dirs[-180]='S'\n",
    "dirs[-90]='W'\n",
    "dists={}\n",
    "dists['N']=0\n",
    "dists['E']=0\n",
    "dists['S']=0\n",
    "dists['W']=0\n",
    "for line in data.splitlines():\n",
    "    if line[0]=='F':\n",
    "        dists[d]+=int(line[1:])\n",
    "    elif line[0]=='R':\n",
    "        a=(a+int(line[1:]))%360\n",
    "        d=dirs[a]\n",
    "    elif line[0]=='L':\n",
    "        a=(a-int(line[1:]))%360\n",
    "        d=dirs[a]\n",
    "    else:\n",
    "        dists[line[0]]+=int(line[1:])\n",
    "        \n",
    "ew=dists['E']-dists['W']\n",
    "ns=dists['S']-dists['N']\n",
    "print(ew+ns)"
   ]
  },
  {
   "cell_type": "code",
   "execution_count": 114,
   "metadata": {
    "scrolled": true
   },
   "outputs": [
    {
     "name": "stdout",
     "output_type": "stream",
     "text": [
      "38693\n"
     ]
    }
   ],
   "source": [
    "dirs={}\n",
    "dirs[0]='N'\n",
    "dirs[90]='E'\n",
    "dirs[180]='S'\n",
    "dirs[270]='W'\n",
    "dirs[-270]='E'\n",
    "dirs[-180]='S'\n",
    "dirs[-90]='W'\n",
    "dists={}\n",
    "waypoint=[10,1]\n",
    "way_dir=['E','N']\n",
    "way_ang=[90,0]\n",
    "pos=[0,0]\n",
    "for line in data.splitlines():\n",
    "    dists['N']=0\n",
    "    dists['E']=0\n",
    "    dists['S']=0\n",
    "    dists['W']=0\n",
    "    if line[0]=='F':\n",
    "        dists[way_dir[0]]=int(line[1:])*waypoint[0]\n",
    "        dists[way_dir[1]]=int(line[1:])*waypoint[1]\n",
    "    elif line[0]=='R':\n",
    "        way_ang[0]=(way_ang[0]+int(line[1:]))%360\n",
    "        way_ang[1]=(way_ang[1]+int(line[1:]))%360\n",
    "        way_dir[0]=dirs[way_ang[0]]\n",
    "        way_dir[1]=dirs[way_ang[1]]\n",
    "        if way_dir[0]=='N' or way_dir[0]=='S':\n",
    "            temp=way_dir[0]\n",
    "            way_dir[0]=way_dir[1]\n",
    "            way_dir[1]=temp\n",
    "            \n",
    "            temp=waypoint[0]\n",
    "            waypoint[0]=waypoint[1]\n",
    "            waypoint[1]=temp\n",
    "            \n",
    "            temp=way_ang[0]\n",
    "            way_ang[0]=way_ang[1]\n",
    "            way_ang[1]=temp\n",
    "    elif line[0]=='L':\n",
    "        way_ang[0]=(way_ang[0]-int(line[1:]))%360\n",
    "        way_ang[1]=(way_ang[1]-int(line[1:]))%360\n",
    "        way_dir[0]=dirs[way_ang[0]]\n",
    "        way_dir[1]=dirs[way_ang[1]]\n",
    "        if way_dir[0]=='N' or way_dir[0]=='S':\n",
    "            temp=way_dir[0]\n",
    "            way_dir[0]=way_dir[1]\n",
    "            way_dir[1]=temp\n",
    "            \n",
    "            temp=waypoint[0]\n",
    "            waypoint[0]=waypoint[1]\n",
    "            waypoint[1]=temp\n",
    "            \n",
    "            temp=way_ang[0]\n",
    "            way_ang[0]=way_ang[1]\n",
    "            way_ang[1]=temp\n",
    "\n",
    "    else:\n",
    "        if line[0]=='N':\n",
    "            if way_dir[1]=='N':\n",
    "                waypoint[1]+=int(line[1:])\n",
    "            else:\n",
    "                waypoint[1]-=int(line[1:])\n",
    "        elif line[0]=='E':\n",
    "            if way_dir[0]=='E':\n",
    "                waypoint[0]+=int(line[1:])\n",
    "            else:\n",
    "                waypoint[0]-=int(line[1:])\n",
    "        elif line[0]=='W':\n",
    "            if way_dir[0]=='W':\n",
    "                waypoint[0]+=int(line[1:])\n",
    "            else:\n",
    "                waypoint[0]-=int(line[1:])\n",
    "        else:\n",
    "            if way_dir[1]=='S':\n",
    "                waypoint[1]+=int(line[1:])\n",
    "            else:\n",
    "                waypoint[1]-=int(line[1:])\n",
    "        if waypoint[0]<0:\n",
    "            waypoint[0]=abs(waypoint[0])\n",
    "            if way_dir[0]=='E':\n",
    "                way_dir[0]='W'\n",
    "                way_ang[0]=270\n",
    "            else:\n",
    "                way_dir[0]='E'\n",
    "                way_ang[0]=90\n",
    "        if waypoint[1]<0:\n",
    "            waypoint[1]=abs(waypoint[1])\n",
    "            if way_dir[1]=='N':\n",
    "                way_dir[1]='S'\n",
    "                way_ang[1]=180\n",
    "            else:\n",
    "                way_dir[1]='N'\n",
    "                way_ang[1]=0\n",
    "    pos[0]+=dists['E']-dists['W']\n",
    "    pos[1]+=dists['N']-dists['S']\n",
    "    \n",
    "print(abs(pos[0])+abs(pos[1]))"
   ]
  }
 ],
 "metadata": {
  "kernelspec": {
   "display_name": "Python 3",
   "language": "python",
   "name": "python3"
  },
  "language_info": {
   "codemirror_mode": {
    "name": "ipython",
    "version": 3
   },
   "file_extension": ".py",
   "mimetype": "text/x-python",
   "name": "python",
   "nbconvert_exporter": "python",
   "pygments_lexer": "ipython3",
   "version": "3.9.0"
  }
 },
 "nbformat": 4,
 "nbformat_minor": 4
}
