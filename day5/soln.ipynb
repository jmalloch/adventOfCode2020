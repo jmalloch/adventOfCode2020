{
 "cells": [
  {
   "cell_type": "code",
   "execution_count": 1,
   "metadata": {},
   "outputs": [],
   "source": [
    "from aocd import data\n"
   ]
  },
  {
   "cell_type": "code",
   "execution_count": 121,
   "metadata": {},
   "outputs": [],
   "source": [
    "def ids(line):\n",
    "    rows=[0,127]\n",
    "    for i, c in enumerate(line[0:7]):\n",
    "        if c =='F':\n",
    "            rows[1]-=2**(6-i)\n",
    "        elif c=='B':\n",
    "            rows[0]+=2**(6-i)\n",
    "    row=rows[0]\n",
    "    cols=[0,7]\n",
    "    for i, c in enumerate(line[7:10]):\n",
    "        if c =='L':\n",
    "            cols[1]-=2**(2-i)\n",
    "        elif c=='R':\n",
    "            cols[0]+=2**(2-i)\n",
    "    col=cols[0]\n",
    "    \n",
    "    return(row*8+col)"
   ]
  },
  {
   "cell_type": "code",
   "execution_count": 122,
   "metadata": {},
   "outputs": [
    {
     "name": "stdout",
     "output_type": "stream",
     "text": [
      "885\n"
     ]
    }
   ],
   "source": [
    "m=0\n",
    "for line in data.splitlines():\n",
    "    val = ids(line)\n",
    "    if val>m:\n",
    "        m=val\n",
    "print(m)"
   ]
  },
  {
   "cell_type": "code",
   "execution_count": 135,
   "metadata": {
    "scrolled": true
   },
   "outputs": [
    {
     "name": "stdout",
     "output_type": "stream",
     "text": [
      "623\n"
     ]
    }
   ],
   "source": [
    "l=[]\n",
    "for line in data.splitlines():\n",
    "    l.append(ids(line))\n",
    "last=696969\n",
    "for ele in sorted(l):\n",
    "    if ele-last>1:\n",
    "        print(last+1)\n",
    "    last=ele"
   ]
  },
  {
   "cell_type": "code",
   "execution_count": null,
   "metadata": {},
   "outputs": [],
   "source": []
  },
  {
   "cell_type": "code",
   "execution_count": null,
   "metadata": {},
   "outputs": [],
   "source": []
  },
  {
   "cell_type": "code",
   "execution_count": null,
   "metadata": {},
   "outputs": [],
   "source": []
  },
  {
   "cell_type": "code",
   "execution_count": null,
   "metadata": {},
   "outputs": [],
   "source": []
  }
 ],
 "metadata": {
  "kernelspec": {
   "display_name": "Python 3",
   "language": "python",
   "name": "python3"
  },
  "language_info": {
   "codemirror_mode": {
    "name": "ipython",
    "version": 3
   },
   "file_extension": ".py",
   "mimetype": "text/x-python",
   "name": "python",
   "nbconvert_exporter": "python",
   "pygments_lexer": "ipython3",
   "version": "3.9.0"
  }
 },
 "nbformat": 4,
 "nbformat_minor": 4
}
