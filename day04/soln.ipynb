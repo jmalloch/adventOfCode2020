{
 "cells": [
  {
   "cell_type": "code",
   "execution_count": 1,
   "metadata": {},
   "outputs": [],
   "source": [
    "from aocd import data\n"
   ]
  },
  {
   "cell_type": "code",
   "execution_count": 12,
   "metadata": {
    "scrolled": true
   },
   "outputs": [],
   "source": [
    "count=0\n",
    "back=0\n",
    "for line in data.split('\\n\\n'):\n",
    "    back+=1\n",
    "    if line.count(' ') + line.count(\"\\n\") != 7:\n",
    "        if line.count(' ') + line.count(\"\\n\") == 6 and 'cid' not in line:\n",
    "            count+=1\n",
    "    else: \n",
    "        count+=1"
   ]
  },
  {
   "cell_type": "code",
   "execution_count": 13,
   "metadata": {},
   "outputs": [
    {
     "name": "stdout",
     "output_type": "stream",
     "text": [
      "230\n"
     ]
    }
   ],
   "source": [
    "print(count)"
   ]
  },
  {
   "cell_type": "code",
   "execution_count": 11,
   "metadata": {
    "scrolled": true
   },
   "outputs": [
    {
     "name": "stdout",
     "output_type": "stream",
     "text": [
      "255\n"
     ]
    }
   ],
   "source": [
    "print(back)"
   ]
  },
  {
   "cell_type": "code",
   "execution_count": 138,
   "metadata": {},
   "outputs": [],
   "source": [
    "ok = '1234567890abcdef'\n",
    "okay = ['amb','blu','brn','gry','grn','hzl','oth']\n",
    "count=0\n",
    "back=0"
   ]
  },
  {
   "cell_type": "code",
   "execution_count": 139,
   "metadata": {
    "scrolled": false
   },
   "outputs": [],
   "source": [
    "for line in data.split('\\n\\n'):\n",
    "    l=len(re.split(' |\\n', line))\n",
    "    if l==7 and 'cid' not in line or l==8:\n",
    "        flag=True\n",
    "        for ele in re.split(' |\\n', line):\n",
    "            if flag==False:\n",
    "                continue\n",
    "            typ,val=ele.split(':')\n",
    "            if typ == 'hgt':\n",
    "                if 'cm' in val:\n",
    "                    if int(val.replace('cm', ''))<150 or int(val.replace('cm', ''))>193:\n",
    "                        flag=False\n",
    "                elif 'in' in val:\n",
    "                    if int(val.replace('in', ''))<59 or int(val.replace('in', ''))>76:\n",
    "                        flag=False\n",
    "                else:\n",
    "                    flag=False\n",
    "            elif typ == 'iyr':\n",
    "                if int(val)<2010 or int(val)>2020:\n",
    "                    flag=False\n",
    "            elif typ == 'eyr':\n",
    "                if int(val)<2020 or int(val)>2030:\n",
    "                    flag=False\n",
    "            elif typ == 'byr':\n",
    "                if int(val)<1920 or int(val)>2002:\n",
    "                    flag=False\n",
    "            elif typ == 'ecl':\n",
    "                if val not in okay:\n",
    "                    flag=False\n",
    "            elif typ == 'hcl':\n",
    "                if val[0]!='#':\n",
    "                    flag=False\n",
    "                for c in val[1:]:\n",
    "                    if c not in ok:\n",
    "                        flag=False\n",
    "            elif typ == 'pid':\n",
    "                if len(val)!= 9:\n",
    "                    flag=False\n",
    "        if flag==True:\n",
    "            count+=1"
   ]
  },
  {
   "cell_type": "code",
   "execution_count": 140,
   "metadata": {},
   "outputs": [
    {
     "name": "stdout",
     "output_type": "stream",
     "text": [
      "156\n"
     ]
    }
   ],
   "source": [
    "print(count)"
   ]
  },
  {
   "cell_type": "code",
   "execution_count": 47,
   "metadata": {},
   "outputs": [
    {
     "name": "stdout",
     "output_type": "stream",
     "text": [
      "255\n"
     ]
    }
   ],
   "source": [
    "print(len(data.split('\\n\\n')))"
   ]
  },
  {
   "cell_type": "code",
   "execution_count": 108,
   "metadata": {},
   "outputs": [
    {
     "name": "stdout",
     "output_type": "stream",
     "text": [
      "25\n"
     ]
    }
   ],
   "source": [
    "print(back)"
   ]
  },
  {
   "cell_type": "code",
   "execution_count": null,
   "metadata": {},
   "outputs": [],
   "source": []
  }
 ],
 "metadata": {
  "kernelspec": {
   "display_name": "Python 3",
   "language": "python",
   "name": "python3"
  },
  "language_info": {
   "codemirror_mode": {
    "name": "ipython",
    "version": 3
   },
   "file_extension": ".py",
   "mimetype": "text/x-python",
   "name": "python",
   "nbconvert_exporter": "python",
   "pygments_lexer": "ipython3",
   "version": "3.9.0"
  }
 },
 "nbformat": 4,
 "nbformat_minor": 4
}
